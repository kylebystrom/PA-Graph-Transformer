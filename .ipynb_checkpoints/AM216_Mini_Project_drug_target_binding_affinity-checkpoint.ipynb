{
 "cells": [
  {
   "cell_type": "markdown",
   "metadata": {
    "colab_type": "text",
    "id": "XN6dxHwuSFXW"
   },
   "source": [
    "# AM216 Mini-Project: Drug target interaction and COVID-19\n",
    "\n",
    "Rapid determination of whether a candidate small molecule will bind to a particular target receptor protein remains a stumbling block in drug discovery.  If you can find a small molecule that binds to a relevant protein and modifies its function, this molecule can serve as a drug.   This is an **inverse problem**: Given a protein, please find a small molecule that can bind to it.  \n",
    "\n",
    "One way of solving this inverse problem would be to use molecular dynamics: Create a molecular model of a protein. Create a molecular model of all possible small molecule drugs that can bind to the protein. Simulate the interactions between the small molecules and the proteins. Find the molecules that work.\n",
    "\n",
    "Or-you might be more mathematical and try to solve this as a straight-up optimization problem: Find the small molecule that optimally binds to the binding pocket of a given drug.\n",
    "\n",
    "Although conceptually appealing, this methodology is impossible: The major bottleneck is that we do not know and cannot accurately represent the interactions between small molecules and proteins.  The potentials are empirical with fitting parameters--they cannot be found from first principles and despite decades of work, we simply do not have good representations for them. For that reason, physical computation has been of limited utility for drug discovery.  \n",
    "\n",
    "We should mention that a secondary bottleneck is the computing power that would be required for this search -- but this is something that could be likely sorted out if it weren't for the first bottleneck.\n",
    "\n",
    "An alternative approach is to use a *data driven approach*. Instead of representing the physics, lets make a list of all known proteins and all small molecules that binds to each protein.  Lets then design a data driven way of associating small molecules to proteins, representing binding.  \n",
    "\n",
    "Note that for a data driven approach to succeed, the key step is to **find ways of representing the small molecule and the protein that make it possible to find the patterns in the existing datasets.**   Representation is the key problem.  Presumably, the best way to represent the proteins and the small molecules is to use the physics and biochemistry of what happens when binding occurs -- as by doing this, we will focus on features that are relevant.  Finding the right feature representations for this type of problem is a very active area of research.\n",
    "\n",
    "In this miniproject, you will dip your toe into the pond by studying a canonical problem, the binding affinity of small molecules against target proteins.  \n",
    "\n",
    "Given all that is happening in the world right now, it seems appropriate to assign you the additional mission is to use the trained model to identify drugs that could bind to the main protease$^*$ protein of COVID-19 and prevent the production of viral enzyme. \n",
    "\n",
    "To help you in this mission, you are given KIBA (\"Kinase Inhibitor Bioassay\") dataset which contains 2111 drugs and 229 proteins with total of 118254 drug-protein binding affinity scores. Those are stored in `ligands_can.txt`, `proteins.txt`, and `Y`, respectively. The rows of `Y` index drugs and the columns index proteins. The element of `Y` is a real-valued binding score that takes into account dissociation constant $K_d$, inhibition constant $K_i$, and half maximal inhibitory concentration $IC_{50}$. Refer to [original paper](https://pubs.acs.org/doi/pdf/10.1021/ci400709d) for more detail. We also provide splitted indices for 5-fold cross validation in `train_fold_setting.txt` and testset indices in `test_fold_setting.txt`. Lastly, `6Y84_A.fasta.txt` contains the amino acid sequence of COVID-19 protease.\n",
    "\n",
    "You will evalulate the performance of your model using MSE and Corcordance Index (CI), which is slightly relaxed metric that measures whether the predicted binding affinity val- ues of two random drug–target pairs were predicted in the same order as their true values were.\n",
    "\n",
    "*: Note that there are many other drug targets for COVID-19 virus. [This page](\n",
    "https://www.guidetopharmacology.org/coronavirus.jsp) gives you a good summary. \n",
    "\n",
    "To help you get started, we will first introduce you to Rdkit and DeepChem packages."
   ]
  },
  {
   "cell_type": "markdown",
   "metadata": {
    "colab_type": "text",
    "id": "wVhNjK4kSFXZ"
   },
   "source": [
    "## 1. Basic Cheminformatics with Rdkit and DeepChem\n",
    "\n",
    "For this project, you will most likely heavily rely on Rdkit and Deepchem. You can install DeepChem along with Rdkit following instruction [here](https://deepchem.io). If you are using Colab, run the following code block.\n"
   ]
  },
  {
   "cell_type": "code",
   "execution_count": 0,
   "metadata": {
    "colab": {},
    "colab_type": "code",
    "id": "51YcSbYhSFXa"
   },
   "outputs": [],
   "source": [
    "!wget -c https://repo.anaconda.com/archive/Anaconda3-2019.10-Linux-x86_64.sh\n",
    "!chmod +x Anaconda3-2019.10-Linux-x86_64.sh\n",
    "!bash ./Anaconda3-2019.10-Linux-x86_64.sh -b -f -p /usr/local\n",
    "!conda install -y -c deepchem -c rdkit -c conda-forge -c omnia deepchem-gpu=2.3.0\n",
    "import sys\n",
    "sys.path.append('/usr/local/lib/python3.7/site-packages/')"
   ]
  },
  {
   "cell_type": "code",
   "execution_count": 1,
   "metadata": {
    "colab": {},
    "colab_type": "code",
    "id": "ZN13PnveSFXg"
   },
   "outputs": [
    {
     "name": "stderr",
     "output_type": "stream",
     "text": [
      "/home/kylebystrom/anaconda3/lib/python3.7/site-packages/sklearn/externals/joblib/__init__.py:15: DeprecationWarning: sklearn.externals.joblib is deprecated in 0.21 and will be removed in 0.23. Please import this functionality directly from joblib, which can be installed with: pip install joblib. If this warning is raised when loading pickled models, you may need to re-serialize those models with scikit-learn 0.21+.\n",
      "  warnings.warn(msg, category=DeprecationWarning)\n",
      "/home/kylebystrom/anaconda3/lib/python3.7/site-packages/tensorflow/python/framework/dtypes.py:516: FutureWarning: Passing (type, 1) or '1type' as a synonym of type is deprecated; in a future version of numpy, it will be understood as (type, (1,)) / '(1,)type'.\n",
      "  _np_qint8 = np.dtype([(\"qint8\", np.int8, 1)])\n",
      "/home/kylebystrom/anaconda3/lib/python3.7/site-packages/tensorflow/python/framework/dtypes.py:517: FutureWarning: Passing (type, 1) or '1type' as a synonym of type is deprecated; in a future version of numpy, it will be understood as (type, (1,)) / '(1,)type'.\n",
      "  _np_quint8 = np.dtype([(\"quint8\", np.uint8, 1)])\n",
      "/home/kylebystrom/anaconda3/lib/python3.7/site-packages/tensorflow/python/framework/dtypes.py:518: FutureWarning: Passing (type, 1) or '1type' as a synonym of type is deprecated; in a future version of numpy, it will be understood as (type, (1,)) / '(1,)type'.\n",
      "  _np_qint16 = np.dtype([(\"qint16\", np.int16, 1)])\n",
      "/home/kylebystrom/anaconda3/lib/python3.7/site-packages/tensorflow/python/framework/dtypes.py:519: FutureWarning: Passing (type, 1) or '1type' as a synonym of type is deprecated; in a future version of numpy, it will be understood as (type, (1,)) / '(1,)type'.\n",
      "  _np_quint16 = np.dtype([(\"quint16\", np.uint16, 1)])\n",
      "/home/kylebystrom/anaconda3/lib/python3.7/site-packages/tensorflow/python/framework/dtypes.py:520: FutureWarning: Passing (type, 1) or '1type' as a synonym of type is deprecated; in a future version of numpy, it will be understood as (type, (1,)) / '(1,)type'.\n",
      "  _np_qint32 = np.dtype([(\"qint32\", np.int32, 1)])\n",
      "/home/kylebystrom/anaconda3/lib/python3.7/site-packages/tensorflow/python/framework/dtypes.py:525: FutureWarning: Passing (type, 1) or '1type' as a synonym of type is deprecated; in a future version of numpy, it will be understood as (type, (1,)) / '(1,)type'.\n",
      "  np_resource = np.dtype([(\"resource\", np.ubyte, 1)])\n",
      "/home/kylebystrom/anaconda3/lib/python3.7/site-packages/tensorboard/compat/tensorflow_stub/dtypes.py:541: FutureWarning: Passing (type, 1) or '1type' as a synonym of type is deprecated; in a future version of numpy, it will be understood as (type, (1,)) / '(1,)type'.\n",
      "  _np_qint8 = np.dtype([(\"qint8\", np.int8, 1)])\n",
      "/home/kylebystrom/anaconda3/lib/python3.7/site-packages/tensorboard/compat/tensorflow_stub/dtypes.py:542: FutureWarning: Passing (type, 1) or '1type' as a synonym of type is deprecated; in a future version of numpy, it will be understood as (type, (1,)) / '(1,)type'.\n",
      "  _np_quint8 = np.dtype([(\"quint8\", np.uint8, 1)])\n",
      "/home/kylebystrom/anaconda3/lib/python3.7/site-packages/tensorboard/compat/tensorflow_stub/dtypes.py:543: FutureWarning: Passing (type, 1) or '1type' as a synonym of type is deprecated; in a future version of numpy, it will be understood as (type, (1,)) / '(1,)type'.\n",
      "  _np_qint16 = np.dtype([(\"qint16\", np.int16, 1)])\n",
      "/home/kylebystrom/anaconda3/lib/python3.7/site-packages/tensorboard/compat/tensorflow_stub/dtypes.py:544: FutureWarning: Passing (type, 1) or '1type' as a synonym of type is deprecated; in a future version of numpy, it will be understood as (type, (1,)) / '(1,)type'.\n",
      "  _np_quint16 = np.dtype([(\"quint16\", np.uint16, 1)])\n",
      "/home/kylebystrom/anaconda3/lib/python3.7/site-packages/tensorboard/compat/tensorflow_stub/dtypes.py:545: FutureWarning: Passing (type, 1) or '1type' as a synonym of type is deprecated; in a future version of numpy, it will be understood as (type, (1,)) / '(1,)type'.\n",
      "  _np_qint32 = np.dtype([(\"qint32\", np.int32, 1)])\n",
      "/home/kylebystrom/anaconda3/lib/python3.7/site-packages/tensorboard/compat/tensorflow_stub/dtypes.py:550: FutureWarning: Passing (type, 1) or '1type' as a synonym of type is deprecated; in a future version of numpy, it will be understood as (type, (1,)) / '(1,)type'.\n",
      "  np_resource = np.dtype([(\"resource\", np.ubyte, 1)])\n"
     ]
    }
   ],
   "source": [
    "import deepchem"
   ]
  },
  {
   "cell_type": "markdown",
   "metadata": {
    "colab_type": "text",
    "id": "ygWxSzB9SFXm"
   },
   "source": [
    "Developing new medicine is a very time-consuming, labor-intensive, and expensive task which begins with rounds of screening process where researchers run some assays with thousands of molecules to identify potential drug candidates to go onto a clinical trial. The field of cheminformatics have been developed to help accelerate this process by performing laboratory experiments on computers. \n",
    "\n",
    "In order to this we need to find a way to represent a molecule so that we can train machine learning models on it.  As mentioned above, this is a critical step.   If we were doing physics we would want to represent the molecule in the most natural way to represent the physics. For example there are features of the molecules that *cause* it to bind to the protein in question -- there are specific interactions between the chemical groups of the molecule and the amino acids. From a physical perspective, identifying these features is the most important part of the problem and we would like the representation to emphasize these.\n",
    "\n",
    "But given that we don't have any idea what is happening, we need another approach. We somehow have to represent both molecules and proteins in a way so that we can train machine learning models on them to see if it is possible to associate them with each other.\n",
    "\n",
    "For small molecules, this is a classic problem. How do we take a molecule and represent it. There is a field that has addressed this called 'cheminformatics'.  \n",
    "\n",
    "A particularly simple method is for molecules are represented as text strings called SMILES (“Simplified Molecular-Input Line-Entry System”). Please refer to [this page](https://www.daylight.com/dayhtml/doc/theory/theory.smiles.html) for more explanantion. Here is an example SMILES string and the molecule it represents, which we obtain via `MolFromSmiles` function of Rdkit."
   ]
  },
  {
   "cell_type": "code",
   "execution_count": 2,
   "metadata": {
    "colab": {},
    "colab_type": "code",
    "id": "M8YkkNgGSFXo"
   },
   "outputs": [],
   "source": [
    "import numpy as np\n",
    "from rdkit.Chem import AllChem as Chem\n",
    "from rdkit.Chem import MolFromSmiles"
   ]
  },
  {
   "cell_type": "code",
   "execution_count": 3,
   "metadata": {
    "colab": {},
    "colab_type": "code",
    "id": "b4sRfDxkSFXs",
    "outputId": "a08a7d2f-6187-421b-bc19-11cc878cf8d4",
    "scrolled": false
   },
   "outputs": [
    {
     "name": "stdout",
     "output_type": "stream",
     "text": [
      "SMILES string:\n",
      "O[C@@H](CNC1CCN(CC1)c2ccc(CC3SC(=O)NC3=O)cc2)c4ccc(O)c(NS(=O)(=O)c5ccccc5)c4\n",
      "\n",
      "Original molecule:\n"
     ]
    },
    {
     "data": {
      "image/png": "[encoded data removed]",
      "text/plain": [
       "<rdkit.Chem.rdchem.Mol at 0x7fb6eb0e1120>"
      ]
     },
     "execution_count": 3,
     "metadata": {},
     "output_type": "execute_result"
    }
   ],
   "source": [
    "smiles = []\n",
    "with open('Sample_Ligand_List.txt', 'r') as f:\n",
    "    for line in f:\n",
    "        smiles.append(line[:-1])\n",
    "        \n",
    "print('SMILES string:')\n",
    "print(smiles[0])\n",
    "\n",
    "print('\\nOriginal molecule:')\n",
    "MolFromSmiles(smiles[0])\n"
   ]
  },
  {
   "cell_type": "markdown",
   "metadata": {
    "colab_type": "text",
    "id": "vuh706D2SFXw"
   },
   "source": [
    "As you may have guessed, this SMILES string does not contain much of structural and chemical information present in the actual molecule representation. \n",
    "\n",
    "The smiles string is a string of symbols -- it is very different from the binding structure of the molecules.  One option that we have is to train machine learning models on the smiles strings directly.\n",
    "\n",
    "This has been found to not be the most effective way of proceeding. Another approach that people have thought of is to convert this to a \"chemical fingerprint\". This is a\n",
    " vector of 1's and 0's that captures the presence or absence of specific features, as determined by local arragnement of atoms in a molecule.  \n",
    "\n",
    "\n",
    "There are many algorithms that give you this finger print. One example is Extended-connectivity fingerprints (ECFP) scheme, which comes as `GetMorganFingerprintAsBitVec` in Rdkit. Here is an example of ECFP4. The number at the end refers to bond distances used for featurizing."
   ]
  },
  {
   "cell_type": "code",
   "execution_count": 4,
   "metadata": {
    "colab": {},
    "colab_type": "code",
    "id": "KNYhVaVaSFXy",
    "outputId": "4d62f590-38f9-4fa2-fc8e-b078528c7a24",
    "scrolled": true
   },
   "outputs": [
    {
     "name": "stdout",
     "output_type": "stream",
     "text": [
      "ECFP4\n",
      "[0 1 0 0 1 0 0 0 0 0 0 0 0 0 0 0 0 0 0 0] ...\n",
      "(2048,)\n"
     ]
    }
   ],
   "source": [
    "print('ECFP4')\n",
    "molecule = MolFromSmiles(smiles[0])\n",
    "ECFP2 = Chem.GetMorganFingerprintAsBitVect(molecule, 2).ToBitString()\n",
    "ECFP2arr = np.array(list(map(int, ECFP2)))\n",
    "print(ECFP2arr[:20], '...')\n",
    "print(ECFP2arr.shape)"
   ]
  },
  {
   "cell_type": "markdown",
   "metadata": {
    "colab_type": "text",
    "id": "hLDF_gKMSFX5"
   },
   "source": [
    "Lots of Rdkit's featurization algorithms are ported in DeepChem. This is a deep learning for chemistry toolkit that was developed at Stanford.\n",
    "\n",
    "We can list the descriptors for molecules from RDKIT. Note that in addition to fingerprints, there are all sorts of purely chemical features, such as\n",
    "\n",
    "\n",
    "*   Number of Hydrogen acceptors\n",
    "*   Number of aromatic rings\n",
    "*   Number of radical electrons\n",
    "*   Number of rings in the molecule\n",
    "*   Partial charges\n",
    "\n",
    "\n",
    "And so forth.  When you are doing machine learning with complete ignorance of why the small molecule binds to something, you might as well be as general as you can be!!\n",
    "\n"
   ]
  },
  {
   "cell_type": "code",
   "execution_count": 5,
   "metadata": {
    "colab": {},
    "colab_type": "code",
    "id": "Uy0vsVrBSFX7",
    "outputId": "e1db2492-a61a-45c6-9c16-a12c3cfb2b08"
   },
   "outputs": [
    {
     "name": "stdout",
     "output_type": "stream",
     "text": [
      "PEOE_VSA14\n",
      "SlogP_VSA4\n",
      "PEOE_VSA12\n",
      "PEOE_VSA6\n",
      "SlogP_VSA1\n",
      "HeavyAtomCount\n",
      "PEOE_VSA13\n",
      "MinAbsPartialCharge\n",
      "PEOE_VSA8\n",
      "NumRadicalElectrons\n",
      "EState_VSA1\n",
      "NumSaturatedRings\n",
      "Kappa2\n",
      "EState_VSA6\n",
      "VSA_EState6\n",
      "MaxPartialCharge\n",
      "NumSaturatedCarbocycles\n",
      "PEOE_VSA1\n",
      "NumHAcceptors\n",
      "SlogP_VSA7\n",
      "NumSaturatedHeterocycles\n",
      "SMR_VSA7\n",
      "SMR_VSA1\n",
      "TPSA\n",
      "Chi1v\n",
      "Chi1\n",
      "VSA_EState9\n",
      "PEOE_VSA7\n",
      "SMR_VSA9\n",
      "Kappa3\n",
      "NOCount\n",
      "PEOE_VSA9\n",
      "MinPartialCharge\n",
      "Chi0\n",
      "SMR_VSA6\n",
      "EState_VSA10\n",
      "Chi1n\n",
      "PEOE_VSA2\n",
      "Chi4n\n",
      "NumHDonors\n",
      "EState_VSA5\n",
      "HeavyAtomMolWt\n",
      "VSA_EState5\n",
      "MaxAbsEStateIndex\n",
      "VSA_EState7\n",
      "EState_VSA3\n",
      "MaxAbsPartialCharge\n",
      "PEOE_VSA11\n",
      "SMR_VSA5\n",
      "MolMR\n",
      "SMR_VSA3\n",
      "VSA_EState10\n",
      "NumAromaticRings\n",
      "MolWt\n",
      "Chi3n\n",
      "NumValenceElectrons\n",
      "SlogP_VSA10\n",
      "NumAliphaticRings\n",
      "EState_VSA11\n",
      "NumAliphaticHeterocycles\n",
      "Chi4v\n",
      "EState_VSA7\n",
      "SlogP_VSA3\n",
      "PEOE_VSA10\n",
      "FractionCSP3\n",
      "SlogP_VSA2\n",
      "Ipc\n",
      "SlogP_VSA8\n",
      "LabuteASA\n",
      "EState_VSA8\n",
      "NumAromaticHeterocycles\n",
      "BertzCT\n",
      "SMR_VSA4\n",
      "VSA_EState3\n",
      "Kappa1\n",
      "VSA_EState8\n",
      "SMR_VSA10\n",
      "SlogP_VSA12\n",
      "EState_VSA9\n",
      "HallKierAlpha\n",
      "PEOE_VSA3\n",
      "Chi2v\n",
      "NHOHCount\n",
      "NumRotatableBonds\n",
      "Chi0n\n",
      "MaxEStateIndex\n",
      "MinEStateIndex\n",
      "Chi0v\n",
      "EState_VSA2\n",
      "EState_VSA4\n",
      "MinAbsEStateIndex\n",
      "SlogP_VSA9\n",
      "PEOE_VSA4\n",
      "VSA_EState1\n",
      "SlogP_VSA6\n",
      "SMR_VSA8\n",
      "NumAliphaticCarbocycles\n",
      "SlogP_VSA5\n",
      "ExactMolWt\n",
      "NumHeteroatoms\n",
      "RingCount\n",
      "VSA_EState2\n",
      "SMR_VSA2\n",
      "VSA_EState4\n",
      "MolLogP\n",
      "PEOE_VSA5\n",
      "Chi3v\n",
      "BalabanJ\n",
      "NumAromaticCarbocycles\n",
      "SlogP_VSA11\n",
      "Chi2n\n"
     ]
    }
   ],
   "source": [
    "from deepchem.feat import RDKitDescriptors   \n",
    "\n",
    "for descriptor in RDKitDescriptors.allowedDescriptors:\n",
    "    print(descriptor)\n"
   ]
  },
  {
   "cell_type": "markdown",
   "metadata": {
    "colab_type": "text",
    "id": "NazROs-xSFYA"
   },
   "source": [
    "Deepchem has also implemented a large number of different machine learning models to build models on top of these features. We can list this as follows:"
   ]
  },
  {
   "cell_type": "code",
   "execution_count": 6,
   "metadata": {
    "colab": {},
    "colab_type": "code",
    "id": "SOnVGtOgSFYB",
    "outputId": "f002c15f-11f9-4f4e-ec4f-66e6351d2dd2"
   },
   "outputs": [
    {
     "data": {
      "text/plain": [
       "['ANIRegression',\n",
       " 'AtomicConvModel',\n",
       " 'BPSymmetryFunctionRegression',\n",
       " 'ChemCeption',\n",
       " 'DAGModel',\n",
       " 'DAGTensorGraph',\n",
       " 'DTNNModel',\n",
       " 'DTNNTensorGraph',\n",
       " 'GAN',\n",
       " 'GraphConvModel',\n",
       " 'GraphConvTensorGraph',\n",
       " 'IRV',\n",
       " 'KerasModel',\n",
       " 'MPNNModel',\n",
       " 'MPNNTensorGraph',\n",
       " 'Model',\n",
       " 'MultitaskClassifier',\n",
       " 'MultitaskFitTransformRegressor',\n",
       " 'MultitaskRegressor',\n",
       " 'OntologyModel',\n",
       " 'OntologyNode',\n",
       " 'ProgressiveMultitaskClassifier',\n",
       " 'ProgressiveMultitaskRegressor',\n",
       " 'RobustMultitaskClassifier',\n",
       " 'RobustMultitaskRegressor',\n",
       " 'ScScoreModel',\n",
       " 'SeqToSeq',\n",
       " 'SequenceDNN',\n",
       " 'Sequential',\n",
       " 'SingletaskToMultitask',\n",
       " 'SklearnModel',\n",
       " 'Smiles2Vec',\n",
       " 'TensorGraph',\n",
       " 'TensorflowMultitaskIRVClassifier',\n",
       " 'TextCNNModel',\n",
       " 'TextCNNTensorGraph',\n",
       " 'ValidationCallback',\n",
       " 'WGAN',\n",
       " 'WeaveModel',\n",
       " 'WeaveTensorGraph',\n",
       " 'XGBoostModel',\n",
       " '__builtins__',\n",
       " '__cached__',\n",
       " '__doc__',\n",
       " '__file__',\n",
       " '__loader__',\n",
       " '__name__',\n",
       " '__package__',\n",
       " '__path__',\n",
       " '__spec__',\n",
       " 'atomic_conv',\n",
       " 'callbacks',\n",
       " 'chemnet_models',\n",
       " 'create_gene_ontology',\n",
       " 'division',\n",
       " 'fcnet',\n",
       " 'gan',\n",
       " 'graph_models',\n",
       " 'keras_model',\n",
       " 'layers',\n",
       " 'losses',\n",
       " 'models',\n",
       " 'multitask',\n",
       " 'optimizers',\n",
       " 'progressive_multitask',\n",
       " 'robust_multitask',\n",
       " 'scscore',\n",
       " 'seqtoseq',\n",
       " 'sklearn_models',\n",
       " 'tensorgraph',\n",
       " 'text_cnn',\n",
       " 'unicode_literals',\n",
       " 'xgboost_models']"
      ]
     },
     "execution_count": 6,
     "metadata": {},
     "output_type": "execute_result"
    }
   ],
   "source": [
    "dir(deepchem.models)"
   ]
  },
  {
   "cell_type": "markdown",
   "metadata": {
    "colab_type": "text",
    "id": "6Cl4Ai8CSFYE"
   },
   "source": [
    "## 2. Parsing KIBA dataset\n",
    "\n",
    "Now we are ready to examine the Kinase dataset.  The way this works is that we are given a particular protein, and for that protein, we want to predict the small molecules that bind to it. Different proteins of course have different sets of small molecules.  This dataset contains a large set of proteins, and for each of them, it contains the small molecules that bind.\n",
    "\n",
    "To associate proteins with small molecules, we also need a representation of the proteins. Proteins are of course sequences of amino acids, so the representation is just a string of amino acids.   To use the string of amino acids with numbers. We do this by simply mapping each amino acid (represented by a letter) to a number."
   ]
  },
  {
   "cell_type": "code",
   "execution_count": 7,
   "metadata": {
    "colab": {},
    "colab_type": "code",
    "id": "WTIiSHZRSFYF"
   },
   "outputs": [],
   "source": [
    "import matplotlib.pyplot as plt\n",
    "import json\n",
    "import pickle\n",
    "from collections import OrderedDict\n",
    "import networkx as nx"
   ]
  },
  {
   "cell_type": "code",
   "execution_count": 10,
   "metadata": {
    "colab": {},
    "colab_type": "code",
    "id": "Hu_V0gH7SFYK"
   },
   "outputs": [],
   "source": [
    "# for converting protein sequence to categorical format\n",
    "seq_voc = \"ABCDEFGHIKLMNOPQRSTUVWXYZ\"\n",
    "seq_dict = {v:i for i,v in enumerate(seq_voc)}\n",
    "seq_dict_len = len(seq_dict)\n",
    "max_seq_len = 1000   # Note that all protein data will have the same length 1000 \n",
    "\n",
    "def seq_to_cat(prot):\n",
    "    x = np.zeros((max_seq_len, len(seq_voc)))\n",
    "    for i, ch in enumerate(prot[:max_seq_len]): \n",
    "        x[i, seq_dict[ch]] = 1\n",
    "    return x  \n",
    "\n",
    "# for Concordance index evaluation\n",
    "def ci(y,f):\n",
    "    ind = np.argsort(y)\n",
    "    y = y[ind]\n",
    "    f = f[ind]\n",
    "    i = len(y)-1\n",
    "    j = i-1\n",
    "    z = 0.0\n",
    "    S = 0.0\n",
    "    while i > 0:\n",
    "        while j >= 0:\n",
    "            if y[i] > y[j]:\n",
    "                z = z+1\n",
    "                u = f[i] - f[j]\n",
    "                if u > 0:\n",
    "                    S = S + 1\n",
    "                elif u == 0:\n",
    "                    S = S + 0.5\n",
    "            j = j - 1\n",
    "        i = i - 1\n",
    "        j = i-1\n",
    "    ci = S/z\n",
    "    return "
   ]
  },
  {
   "cell_type": "markdown",
   "metadata": {
    "colab_type": "text",
    "id": "E_FG7L-Rn1oV"
   },
   "source": [
    "We read in the ligands and the proteins, as well as the binding data."
   ]
  },
  {
   "cell_type": "code",
   "execution_count": 11,
   "metadata": {
    "colab": {},
    "colab_type": "code",
    "id": "5advqtV7SFYP",
    "scrolled": true
   },
   "outputs": [],
   "source": [
    "fpath = 'data/kiba/'\n",
    "\n",
    "# Read in drugs and proteins\n",
    "drugs_ = json.load(open(fpath + \"ligands_can.txt\"), object_pairs_hook=OrderedDict)\n",
    "drugs = np.array([Chem.MolToSmiles(Chem.MolFromSmiles(d),isomericSmiles=True) for d in drugs_.values()])\n",
    "proteins_ = json.load(open(fpath + \"proteins.txt\"), object_pairs_hook=OrderedDict)\n",
    "proteins = np.array(list(proteins_.values()))\n",
    "\n",
    "# Read in affinity data\n",
    "affinity = np.array(pickle.load(open(fpath + \"Y\",\"rb\"), encoding='latin1'))\n",
    "\n",
    "# Read in train/test fold  \n",
    "train_fold = json.load(open(fpath + \"folds/train_fold_setting1.txt\"))\n",
    "train_fold = [ee for e in train_fold for ee in e ]    \n",
    "'''\n",
    "Here all validation folds are aggregated into training set. \n",
    "If you want to train models with different architectures and/or \n",
    "optimize for model hyperparameters, we encourage you to use 5-fold \n",
    "cross validation as provided here.\n",
    "'''\n",
    "test_fold = json.load(open(fpath + \"folds/test_fold_setting1.txt\"))\n",
    "\n",
    "# Prepare train/test data with fold indices\n",
    "rows, cols = np.where(np.isnan(affinity)==False) \n",
    "drugs_tr = drugs[rows[train_fold]]\n",
    "proteins_tr = np.array([seq_to_cat(p) for p in proteins[cols[train_fold]]])\n",
    "affinity_tr = affinity[rows[train_fold], cols[train_fold]]\n",
    "\n",
    "drugs_ts = drugs[rows[test_fold]]\n",
    "proteins_ts = np.array([seq_to_cat(p) for p in proteins[cols[test_fold]]])\n",
    "affinity_ts = affinity[rows[test_fold], cols[test_fold]]    "
   ]
  },
  {
   "cell_type": "markdown",
   "metadata": {
    "colab_type": "text",
    "id": "GRXYpyYVSFYS"
   },
   "source": [
    "## 3. Train a model on KIBA data"
   ]
  },
  {
   "cell_type": "code",
   "execution_count": 12,
   "metadata": {
    "colab": {},
    "colab_type": "code",
    "id": "qODLvdvESFYT"
   },
   "outputs": [],
   "source": [
    "import math\n",
    "import torch\n",
    "import torch.nn as nn\n",
    "import torch.nn.functional as F\n",
    "from torch.nn.modules.transformer import Transformer"
   ]
  },
  {
   "cell_type": "code",
   "execution_count": 13,
   "metadata": {},
   "outputs": [],
   "source": [
    "transformer = Transformer(d_model=128, nhead=4, num_encoder_layers=4,\n",
    "                         num_decoder_layers=4, dim_feedforward=512,\n",
    "                         dropout=0.1, activation='relu')"
   ]
  },
  {
   "cell_type": "code",
   "execution_count": 15,
   "metadata": {},
   "outputs": [
    {
     "name": "stdout",
     "output_type": "stream",
     "text": [
      "(98545, 1000, 25)\n",
      "(19709, 1000, 25)\n"
     ]
    }
   ],
   "source": [
    "print(proteins_tr.shape)\n",
    "print(proteins_ts.shape)"
   ]
  },
  {
   "cell_type": "code",
   "execution_count": null,
   "metadata": {},
   "outputs": [],
   "source": [
    "device = torch.device(\"cuda\" if torch.cuda.is_available() else \"cpu\")\n",
    "\n",
    "proteins_tr = torch.tensor(proteins_tr)\n",
    "proteins_ts = torch.tensor(proteins_ts)\n",
    "\n",
    "def batchify(data, bsz):\n",
    "    # Divide the dataset into bsz parts.\n",
    "    nbatch = data.size(0) // bsz\n",
    "    # Trim off any extra elements that wouldn't cleanly fit (remainders).\n",
    "    data = data.narrow(0, 0, nbatch * bsz)\n",
    "    # Evenly divide the data across the bsz batches.\n",
    "    data = data.view(bsz, -1).t().contiguous()\n",
    "    return data.to(device)\n",
    "\n",
    "batch_size = 20\n",
    "eval_batch_size = 10\n",
    "train_data = batchify(proteins_tr[:80000,:,:], batch_size)\n",
    "val_data = batchify(proteins_tr[80000:,:,:], eval_batch_size)"
   ]
  },
  {
   "cell_type": "markdown",
   "metadata": {
    "colab_type": "text",
    "id": "K67QchKnSFYZ"
   },
   "source": [
    "[The original paper](https://www.ncbi.nlm.nih.gov/pmc/articles/PMC4364066/) obtained CI score of 0.782 and MSE of 0.411, and [random forest model](https://www.ncbi.nlm.nih.gov/pmc/articles/PMC5395521/) got 0.836 and 0.222. Can you beat them?"
   ]
  },
  {
   "cell_type": "markdown",
   "metadata": {
    "colab_type": "text",
    "id": "my0BqyOkSFYa"
   },
   "source": [
    "## 4. Use  your model on COVID-19 protease"
   ]
  },
  {
   "cell_type": "markdown",
   "metadata": {
    "colab_type": "text",
    "id": "rkmmMhjOSFYc"
   },
   "source": [
    "Now, use your trained model to identify drugs that could be used as COVID-19 protease inhibitors from these 2111 drugs in the dataset. The sequence of the protease is provided in `6Y84_A.fasta.txt`. You might want to first predict a binding affinity of Ritonavior, a well known HIV drug that binds to HIV protease, to get the sense of a good binding score for this task. SMILES of Ritonavior is provided below.  "
   ]
  },
  {
   "cell_type": "code",
   "execution_count": 0,
   "metadata": {
    "colab": {},
    "colab_type": "code",
    "id": "DFt_emuuSFYd",
    "outputId": "3c7afc46-74fb-4d0c-859c-f5e1f3da8e0c"
   },
   "outputs": [
    {
     "data": {
      "image/png": "[encoded data removed]",
      "text/plain": [
       "<rdkit.Chem.rdchem.Mol at 0x2b6c3416dc10>"
      ]
     },
     "execution_count": 37,
     "metadata": {
      "tags": []
     },
     "output_type": "execute_result"
    }
   ],
   "source": [
    "ritonavior = 'CC(C)C1=NC(=CS1)CN(C)C(=O)NC(C(C)C)C(=O)NC(CC2=CC=CC=C2)CC(C(CC3=CC=CC=C3)NC(=O)OCC4=CN=CS4)O'\n",
    "MolFromSmiles(ritonavior)"
   ]
  },
  {
   "cell_type": "markdown",
   "metadata": {
    "colab_type": "text",
    "id": "2meDhKVKSFYi"
   },
   "source": [
    "Please keep in mind that proteins in KIBA data are kinase family, a different kind from protease. So in this exercise, we are relying on transfer learning. That is, the learned embedding for predicting kinase could be useful for predicting protease binding as well."
   ]
  }
 ],
 "metadata": {
  "colab": {
   "name": "AM216 Mini-Project: drug_target_binding_affinity.ipynb",
   "provenance": []
  },
  "kernelspec": {
   "display_name": "Python 3",
   "language": "python",
   "name": "python3"
  },
  "language_info": {
   "codemirror_mode": {
    "name": "ipython",
    "version": 3
   },
   "file_extension": ".py",
   "mimetype": "text/x-python",
   "name": "python",
   "nbconvert_exporter": "python",
   "pygments_lexer": "ipython3",
   "version": "3.7.4"
  },
  "toc": {
   "base_numbering": 1,
   "nav_menu": {},
   "number_sections": true,
   "sideBar": true,
   "skip_h1_title": false,
   "title_cell": "Table of Contents",
   "title_sidebar": "Contents",
   "toc_cell": false,
   "toc_position": {},
   "toc_section_display": true,
   "toc_window_display": false
  }
 },
 "nbformat": 4,
 "nbformat_minor": 1
}
